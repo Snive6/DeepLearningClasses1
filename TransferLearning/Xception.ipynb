{
 "cells": [
  {
   "cell_type": "markdown",
   "metadata": {},
   "source": [
    "# Transfer Learning\n",
    "This project should introduce you to transfer learning techniques. The checklist below shows the steps necessary to finish the project.\n",
    "- **Prepare a dataset**. The dataset shall be desined for image classification, and be organized to work with keras.applications (training, validation and test data should be in different folders. Images from one class should be in one subfolder). \n",
    "- **Select the network**. Select the network you want to work with. In the original code `Xception` network is selected, but you may change it if you want.\n",
    "- **Complete functions**. Complete missing code in the following functions\n",
    "    - `add_new_last_layer` - adds an output layer to your model. You may also add some layers in between. If so, remember to unfreeze these layers in `setup_to_transfer_learn` function\n",
    "    - `setup_to_transfer_learn` - Freezes all layers but the last one and compiles the model\n",
    "    - `setup_to_finetune` - Freezes the first not_trainable layers, and unfreezes the rest\n",
    "    - `train_generator` - Creates a generator feed with train dataset. You should add data augmentation to it\n",
    "- **Perorm training**. Perform model trainig slowly unfreezeng the layers as long as you do not observe overfitting. In case of overfitting get back to previous model.\n",
    "- **Test your model on real images**. Write a code that tests your model on real images. You should display an image, a real class of an image, the class selected by the model, and the probabilities assined by the model to all the classes."
   ]
  },
  {
   "cell_type": "code",
   "execution_count": 1,
   "metadata": {
    "id": "fLtWaKgdxPWI"
   },
   "outputs": [],
   "source": [
    "import os\n",
    "import sys\n",
    "import glob\n",
    "\n",
    "import numpy as np\n",
    "import pickle\n",
    "\n",
    "import matplotlib.pyplot as plt\n",
    "\n",
    "from tensorflow.keras.applications.xception import Xception, preprocess_input\n",
    "from tensorflow.keras.models import Model\n",
    "from tensorflow.keras.layers import Dense, GlobalAveragePooling2D\n",
    "from tensorflow.keras.preprocessing.image import ImageDataGenerator\n",
    "from tensorflow.keras.optimizers import Nadam\n",
    "\n",
    "%matplotlib inline"
   ]
  },
  {
   "cell_type": "code",
   "execution_count": 2,
   "metadata": {
    "colab": {
     "base_uri": "https://localhost:8080/"
    },
    "id": "4dVAqoqSxD7q",
    "outputId": "266d2f1d-576c-41eb-9f9c-81bb52614108"
   },
   "outputs": [],
   "source": [
    "# Run if you are using google drive\n",
    "# from google.colab import drive\n",
    "# drive.mount('/content/drive')"
   ]
  },
  {
   "cell_type": "code",
   "execution_count": 3,
   "metadata": {
    "colab": {
     "base_uri": "https://localhost:8080/"
    },
    "id": "xNospTanxyWV",
    "outputId": "f81c3ac4-5d1a-4398-a6f2-d587e4f09e1b"
   },
   "outputs": [],
   "source": [
    "# Run to see how to access your google drive\n",
    "# !ls \"/content/drive/My Drive/\""
   ]
  },
  {
   "cell_type": "code",
   "execution_count": 4,
   "metadata": {
    "id": "NDpbsBT2xPWL"
   },
   "outputs": [],
   "source": [
    "# If you have more than 1 GPU and you want to train on the first one only\n",
    "# os.environ[\"CUDA_VISIBLE_DEVICES\"] = \"0\""
   ]
  },
  {
   "cell_type": "code",
   "execution_count": 5,
   "metadata": {
    "id": "csZ0XAgAxPWM"
   },
   "outputs": [],
   "source": [
    "def get_nb_files(directory):\n",
    "    \"\"\"Get number of files by searching directory recursively\"\"\"\n",
    "    if not os.path.exists(directory):\n",
    "        print ('No directory')\n",
    "        return 0\n",
    "    cnt = 0\n",
    "    for r, dirs, files in os.walk(directory):\n",
    "        for dr in dirs:\n",
    "              cnt += len(glob.glob(os.path.join(r, dr + \"/*\")))\n",
    "    return cnt\n",
    "\n",
    "def add_new_last_layer(base_model, nb_classes):\n",
    "    \"\"\"Add last layer to the convnet\n",
    "    Arguments:\n",
    "        base_model: keras model (without a top layer)\n",
    "        nb_classes: number of classes\n",
    "    Returns:\n",
    "        new keras model with last layer\n",
    "    \"\"\"\n",
    "    x = base_model.output\n",
    "    x = GlobalAveragePooling2D()(x)\n",
    "    # Add the last layer and ((optionally) a dense layer\n",
    "    # ENTER YOUR CODE HERE \n",
    "    predictions = Dense(nb_classes, activation='softmax')(x)\n",
    "    #END OF YOUR CODE\n",
    "    model = Model(inputs=base_model.input, outputs=predictions)\n",
    "    return model\n",
    "\n",
    "\n",
    "\n",
    "def setup_to_transfer_learn(model, args):\n",
    "    \"\"\"Freezes all layers but the last one and compiles the model\"\"\"\n",
    "    \n",
    "    # TODO: Set all the layers but last one to not trainable.\n",
    "    # Note: If you added more than one layer in the add_new_last_layer \n",
    "    # function you should set all these layers to trainable.\n",
    "    #ENTER YOUR CODE HERE    \n",
    "    for layer in model.layers[:-1]:\n",
    "        layer.trainable = False\n",
    "    #END OF YOUR CODE\n",
    "\n",
    "    model.layers[-1].trainable=True\n",
    "    opt = Nadam(lr=args.lr)\n",
    "    model.compile(optimizer=opt, loss='categorical_crossentropy', metrics=['accuracy'])\n",
    "\n",
    "\n",
    "def setup_to_finetune(model, args, not_trainable):\n",
    "    \"\"\"Freezes the first not_trainable layers, and unfreezes the rest\n",
    "    Arguments:\n",
    "        model: keras model\n",
    "        not_trainable: number of not trainable layers\n",
    "    \"\"\"\n",
    "    \n",
    "    #Set the layers [0:not_trainable] to not trainable. Set the layers [not_trainable:] to trainable\n",
    "    #ENTER YOUR CODE HERE\n",
    "    for layer in model.layers[:not_trainable]:\n",
    "        layer.trainable = False\n",
    "    for layer in model.layers[not_trainable:]:\n",
    "        layer.trainable = True\n",
    "    #END OF YOUR CODE\n",
    "\n",
    "    opt = Nadam(lr=args.lr)\n",
    "    model.compile(optimizer=opt, loss='categorical_crossentropy', metrics=['accuracy'])\n",
    "    \n",
    "def trainable_params(model, output_format = 'en_US'):\n",
    "    \"\"\"Computes the number of trainable parameters in the model.\n",
    "    Args:\n",
    "        model: keras model\n",
    "        output_format: (default: 'en_US')\n",
    "            'int'   - number of trainable parameters (12345)\n",
    "            'en_US' - number of trainable parameters formated to comma separated str ('12,235')\n",
    "    \"\"\"    \n",
    "    \n",
    "    def nr_to_string(number, separator = ','):\n",
    "        \"\"\"\n",
    "        Changes numbers to string.\n",
    "        \"\"\"\n",
    "        s = '%d' % number\n",
    "        groups = []\n",
    "        while s and s[-1].isdigit():\n",
    "            groups.append(s[-3:])\n",
    "            s = s[:-3]\n",
    "        return s + separator.join(reversed(groups))\n",
    "\n",
    "    # And the real trainable_params function\n",
    "    \n",
    "    ret = sum([np.prod(K.get_value(w).shape) for w in model.trainable_weights])\n",
    "    if output_format == 'en_US':\n",
    "        return nr_to_string(ret)\n",
    "    else:\n",
    "        return ret"
   ]
  },
  {
   "cell_type": "markdown",
   "metadata": {
    "id": "p7ikt-GBxPWN"
   },
   "source": [
    "\n",
    "### Plot results"
   ]
  },
  {
   "cell_type": "code",
   "execution_count": 30,
   "metadata": {
    "id": "Gcu0Gl27xPWN"
   },
   "outputs": [],
   "source": [
    "def unpack_history(history, old_history = None):\n",
    "    if old_history is None:\n",
    "        new_history = {\n",
    "            'accuracy' : [],\n",
    "            'val_accuracy' : [],\n",
    "            'loss' : [],\n",
    "            'val_loss' : [],\n",
    "        }  \n",
    "    else:\n",
    "        new_history = old_history\n",
    "    new_history['accuracy'] += history.history['accuracy']\n",
    "    print(history.history['val_accuracy'])\n",
    "#     new_history['val_accuracy'] += history.history['val_accuracy']\n",
    "    new_history['loss'] += history.history['loss']\n",
    "    new_history['val_loss'] += history.history['val_loss']\n",
    "    return new_history\n",
    "\n",
    "def plot_history(training_history):\n",
    "    acc = training_history['accuracy']\n",
    "    val_acc = training_history['val_accuracy']\n",
    "    loss = training_history['loss']\n",
    "    val_loss = training_history['val_loss']\n",
    "    epochs = np.arange(len(acc)) + 1\n",
    "    \n",
    "    fig = plt.figure(figsize=(12, 4))\n",
    "\n",
    "    ax1 = fig.add_subplot(121)    \n",
    "    ax1.plot(epochs, loss, c='g', label='Train')\n",
    "    ax1.plot(epochs, val_loss, c='r', label='Valid')\n",
    "    ax1.set_title('Loss')\n",
    "    ax1.legend(loc='lower left');\n",
    "    ax1.grid(True)\n",
    "    \n",
    "    ax2 = fig.add_subplot(122)    \n",
    "    ax2.plot(epochs, acc, c='g', label='Train')\n",
    "    ax2.plot(epochs, val_acc, c='r', label='Valid')\n",
    "    ax2.set_title('Accuracy')\n",
    "    #ax2.legend(loc='upper left');\n",
    "    ax2.grid(True)\n",
    "        \n",
    "    plt.show()\n",
    "\n",
    "\n",
    "def process_and_display(history, old_history = None):\n",
    "    new_history = unpack_history(history, old_history)\n",
    "    plot_history(new_history)\n",
    "    return new_history"
   ]
  },
  {
   "cell_type": "markdown",
   "metadata": {
    "id": "DIYqpeLlxPWO"
   },
   "source": [
    "### Hyperparameters"
   ]
  },
  {
   "cell_type": "code",
   "execution_count": 21,
   "metadata": {
    "id": "27_24vQMxPWO"
   },
   "outputs": [],
   "source": [
    "class Args():\n",
    "    def __init__(self):\n",
    "        \n",
    "        self.im_width, self.im_height = 299, 299 #fixed size for Xception\n",
    "        self.lr = 0.001\n",
    "        self.batch_size = 128\n",
    "        \n",
    "        local_folder = './data'\n",
    "        self.train_dir = os.path.join(local_folder, 'train/')\n",
    "        self.valid_dir = os.path.join(local_folder, 'valid/')\n",
    "        self.test_dir = os.path.join(local_folder, 'test/')\n",
    "            \n",
    "args = Args()\n"
   ]
  },
  {
   "cell_type": "markdown",
   "metadata": {
    "id": "PTivQAhmxPWO"
   },
   "source": [
    "### Prepare global variables"
   ]
  },
  {
   "cell_type": "code",
   "execution_count": 22,
   "metadata": {
    "colab": {
     "base_uri": "https://localhost:8080/"
    },
    "id": "eGeRrcsvxPWP",
    "outputId": "47f6824c-8df0-4050-9aea-de9a62bd053c"
   },
   "outputs": [
    {
     "name": "stdout",
     "output_type": "stream",
     "text": [
      "Train dataset contains 180 samples (1 steps / epoch)\n",
      "Valid dataset contains 30 samples (0 steps / epoch)\n",
      "Dataset contains 6 classes (['data\\\\train\\\\baseball', 'data\\\\train\\\\basketball', 'data\\\\train\\\\football', 'data\\\\train\\\\rugby', 'data\\\\train\\\\tennis', 'data\\\\train\\\\volleyball']).\n"
     ]
    }
   ],
   "source": [
    "nb_train_samples = get_nb_files(args.train_dir)\n",
    "classes = glob.glob(args.train_dir + \"/*\")\n",
    "classes = [x.split('/')[-1] for x in classes]\n",
    "classes.sort()\n",
    "nb_classes = len(classes)\n",
    "nb_valid_samples = get_nb_files(args.valid_dir)\n",
    "\n",
    "train_steps = int(nb_train_samples / args.batch_size)\n",
    "valid_steps = int (nb_valid_samples / args.batch_size)\n",
    "\n",
    "print ('Train dataset contains {} samples ({} steps / epoch)'.format(nb_train_samples, train_steps))\n",
    "print ('Valid dataset contains {} samples ({} steps / epoch)'.format(nb_valid_samples, valid_steps))\n",
    "print ('Dataset contains {} classes ({}).'.format(nb_classes, classes))\n"
   ]
  },
  {
   "cell_type": "markdown",
   "metadata": {
    "id": "rRa5FjkHxPWP"
   },
   "source": [
    "### Generators"
   ]
  },
  {
   "cell_type": "code",
   "execution_count": 23,
   "metadata": {
    "colab": {
     "base_uri": "https://localhost:8080/"
    },
    "id": "B1fRcyIqxPWQ",
    "outputId": "64507536-d544-4a05-9c55-3eefc31ee85c"
   },
   "outputs": [
    {
     "name": "stdout",
     "output_type": "stream",
     "text": [
      "Found 180 images belonging to 6 classes.\n",
      "Found 30 images belonging to 6 classes.\n",
      "Found 30 images belonging to 6 classes.\n"
     ]
    }
   ],
   "source": [
    "# add data augmentation to the generator\n",
    "train_datagen = ImageDataGenerator(\n",
    "    preprocessing_function=preprocess_input,\n",
    "    #ENTER YOUR CODE\n",
    "    rotation_range=15,\n",
    "    width_shift_range=0.2,\n",
    "    height_shift_range=0.14,\n",
    "    horizontal_flip=True\n",
    "    #END OF YOUR CODE\n",
    ")\n",
    "\n",
    "test_datagen = ImageDataGenerator(\n",
    "    preprocessing_function=preprocess_input,\n",
    ")\n",
    "\n",
    "train_generator = train_datagen.flow_from_directory(\n",
    "    args.train_dir,\n",
    "    target_size=(args.im_width, args.im_height),\n",
    "    batch_size=args.batch_size,\n",
    ")\n",
    "\n",
    "validation_generator = test_datagen.flow_from_directory(\n",
    "    args.valid_dir,\n",
    "    target_size=(args.im_width, args.im_height),\n",
    "    batch_size=args.batch_size,\n",
    ")\n",
    "\n",
    "test_generator = test_datagen.flow_from_directory(\n",
    "    args.test_dir,\n",
    "    target_size=(args.im_width, args.im_height),\n",
    "    batch_size=args.batch_size\n",
    ")"
   ]
  },
  {
   "cell_type": "markdown",
   "metadata": {
    "id": "aRfF5R9MxPWR"
   },
   "source": [
    "### Model"
   ]
  },
  {
   "cell_type": "code",
   "execution_count": 24,
   "metadata": {
    "colab": {
     "base_uri": "https://localhost:8080/"
    },
    "id": "8wiPWrBvxPWR",
    "outputId": "2196f44a-dba4-4243-b6e7-ee7334fce01c"
   },
   "outputs": [
    {
     "name": "stdout",
     "output_type": "stream",
     "text": [
      "Model: \"model_2\"\n",
      "__________________________________________________________________________________________________\n",
      " Layer (type)                   Output Shape         Param #     Connected to                     \n",
      "==================================================================================================\n",
      " input_3 (InputLayer)           [(None, None, None,  0           []                               \n",
      "                                 3)]                                                              \n",
      "                                                                                                  \n",
      " block1_conv1 (Conv2D)          (None, None, None,   864         ['input_3[0][0]']                \n",
      "                                32)                                                               \n",
      "                                                                                                  \n",
      " block1_conv1_bn (BatchNormaliz  (None, None, None,   128        ['block1_conv1[0][0]']           \n",
      " ation)                         32)                                                               \n",
      "                                                                                                  \n",
      " block1_conv1_act (Activation)  (None, None, None,   0           ['block1_conv1_bn[0][0]']        \n",
      "                                32)                                                               \n",
      "                                                                                                  \n",
      " block1_conv2 (Conv2D)          (None, None, None,   18432       ['block1_conv1_act[0][0]']       \n",
      "                                64)                                                               \n",
      "                                                                                                  \n",
      " block1_conv2_bn (BatchNormaliz  (None, None, None,   256        ['block1_conv2[0][0]']           \n",
      " ation)                         64)                                                               \n",
      "                                                                                                  \n",
      " block1_conv2_act (Activation)  (None, None, None,   0           ['block1_conv2_bn[0][0]']        \n",
      "                                64)                                                               \n",
      "                                                                                                  \n",
      " block2_sepconv1 (SeparableConv  (None, None, None,   8768       ['block1_conv2_act[0][0]']       \n",
      " 2D)                            128)                                                              \n",
      "                                                                                                  \n",
      " block2_sepconv1_bn (BatchNorma  (None, None, None,   512        ['block2_sepconv1[0][0]']        \n",
      " lization)                      128)                                                              \n",
      "                                                                                                  \n",
      " block2_sepconv2_act (Activatio  (None, None, None,   0          ['block2_sepconv1_bn[0][0]']     \n",
      " n)                             128)                                                              \n",
      "                                                                                                  \n",
      " block2_sepconv2 (SeparableConv  (None, None, None,   17536      ['block2_sepconv2_act[0][0]']    \n",
      " 2D)                            128)                                                              \n",
      "                                                                                                  \n",
      " block2_sepconv2_bn (BatchNorma  (None, None, None,   512        ['block2_sepconv2[0][0]']        \n",
      " lization)                      128)                                                              \n",
      "                                                                                                  \n",
      " conv2d_8 (Conv2D)              (None, None, None,   8192        ['block1_conv2_act[0][0]']       \n",
      "                                128)                                                              \n",
      "                                                                                                  \n",
      " block2_pool (MaxPooling2D)     (None, None, None,   0           ['block2_sepconv2_bn[0][0]']     \n",
      "                                128)                                                              \n",
      "                                                                                                  \n",
      " batch_normalization_8 (BatchNo  (None, None, None,   512        ['conv2d_8[0][0]']               \n",
      " rmalization)                   128)                                                              \n",
      "                                                                                                  \n",
      " add_24 (Add)                   (None, None, None,   0           ['block2_pool[0][0]',            \n",
      "                                128)                              'batch_normalization_8[0][0]']  \n",
      "                                                                                                  \n",
      " block3_sepconv1_act (Activatio  (None, None, None,   0          ['add_24[0][0]']                 \n",
      " n)                             128)                                                              \n",
      "                                                                                                  \n",
      " block3_sepconv1 (SeparableConv  (None, None, None,   33920      ['block3_sepconv1_act[0][0]']    \n",
      " 2D)                            256)                                                              \n",
      "                                                                                                  \n",
      " block3_sepconv1_bn (BatchNorma  (None, None, None,   1024       ['block3_sepconv1[0][0]']        \n",
      " lization)                      256)                                                              \n",
      "                                                                                                  \n",
      " block3_sepconv2_act (Activatio  (None, None, None,   0          ['block3_sepconv1_bn[0][0]']     \n",
      " n)                             256)                                                              \n",
      "                                                                                                  \n",
      " block3_sepconv2 (SeparableConv  (None, None, None,   67840      ['block3_sepconv2_act[0][0]']    \n",
      " 2D)                            256)                                                              \n",
      "                                                                                                  \n",
      " block3_sepconv2_bn (BatchNorma  (None, None, None,   1024       ['block3_sepconv2[0][0]']        \n",
      " lization)                      256)                                                              \n",
      "                                                                                                  \n",
      " conv2d_9 (Conv2D)              (None, None, None,   32768       ['add_24[0][0]']                 \n",
      "                                256)                                                              \n",
      "                                                                                                  \n",
      " block3_pool (MaxPooling2D)     (None, None, None,   0           ['block3_sepconv2_bn[0][0]']     \n",
      "                                256)                                                              \n",
      "                                                                                                  \n",
      " batch_normalization_9 (BatchNo  (None, None, None,   1024       ['conv2d_9[0][0]']               \n",
      " rmalization)                   256)                                                              \n",
      "                                                                                                  \n",
      " add_25 (Add)                   (None, None, None,   0           ['block3_pool[0][0]',            \n",
      "                                256)                              'batch_normalization_9[0][0]']  \n",
      "                                                                                                  \n",
      " block4_sepconv1_act (Activatio  (None, None, None,   0          ['add_25[0][0]']                 \n",
      " n)                             256)                                                              \n"
     ]
    },
    {
     "name": "stdout",
     "output_type": "stream",
     "text": [
      "                                                                                                  \n",
      " block4_sepconv1 (SeparableConv  (None, None, None,   188672     ['block4_sepconv1_act[0][0]']    \n",
      " 2D)                            728)                                                              \n",
      "                                                                                                  \n",
      " block4_sepconv1_bn (BatchNorma  (None, None, None,   2912       ['block4_sepconv1[0][0]']        \n",
      " lization)                      728)                                                              \n",
      "                                                                                                  \n",
      " block4_sepconv2_act (Activatio  (None, None, None,   0          ['block4_sepconv1_bn[0][0]']     \n",
      " n)                             728)                                                              \n",
      "                                                                                                  \n",
      " block4_sepconv2 (SeparableConv  (None, None, None,   536536     ['block4_sepconv2_act[0][0]']    \n",
      " 2D)                            728)                                                              \n",
      "                                                                                                  \n",
      " block4_sepconv2_bn (BatchNorma  (None, None, None,   2912       ['block4_sepconv2[0][0]']        \n",
      " lization)                      728)                                                              \n",
      "                                                                                                  \n",
      " conv2d_10 (Conv2D)             (None, None, None,   186368      ['add_25[0][0]']                 \n",
      "                                728)                                                              \n",
      "                                                                                                  \n",
      " block4_pool (MaxPooling2D)     (None, None, None,   0           ['block4_sepconv2_bn[0][0]']     \n",
      "                                728)                                                              \n",
      "                                                                                                  \n",
      " batch_normalization_10 (BatchN  (None, None, None,   2912       ['conv2d_10[0][0]']              \n",
      " ormalization)                  728)                                                              \n",
      "                                                                                                  \n",
      " add_26 (Add)                   (None, None, None,   0           ['block4_pool[0][0]',            \n",
      "                                728)                              'batch_normalization_10[0][0]'] \n",
      "                                                                                                  \n",
      " block5_sepconv1_act (Activatio  (None, None, None,   0          ['add_26[0][0]']                 \n",
      " n)                             728)                                                              \n",
      "                                                                                                  \n",
      " block5_sepconv1 (SeparableConv  (None, None, None,   536536     ['block5_sepconv1_act[0][0]']    \n",
      " 2D)                            728)                                                              \n",
      "                                                                                                  \n",
      " block5_sepconv1_bn (BatchNorma  (None, None, None,   2912       ['block5_sepconv1[0][0]']        \n",
      " lization)                      728)                                                              \n",
      "                                                                                                  \n",
      " block5_sepconv2_act (Activatio  (None, None, None,   0          ['block5_sepconv1_bn[0][0]']     \n",
      " n)                             728)                                                              \n",
      "                                                                                                  \n",
      " block5_sepconv2 (SeparableConv  (None, None, None,   536536     ['block5_sepconv2_act[0][0]']    \n",
      " 2D)                            728)                                                              \n",
      "                                                                                                  \n",
      " block5_sepconv2_bn (BatchNorma  (None, None, None,   2912       ['block5_sepconv2[0][0]']        \n",
      " lization)                      728)                                                              \n",
      "                                                                                                  \n",
      " block5_sepconv3_act (Activatio  (None, None, None,   0          ['block5_sepconv2_bn[0][0]']     \n",
      " n)                             728)                                                              \n",
      "                                                                                                  \n",
      " block5_sepconv3 (SeparableConv  (None, None, None,   536536     ['block5_sepconv3_act[0][0]']    \n",
      " 2D)                            728)                                                              \n",
      "                                                                                                  \n",
      " block5_sepconv3_bn (BatchNorma  (None, None, None,   2912       ['block5_sepconv3[0][0]']        \n",
      " lization)                      728)                                                              \n",
      "                                                                                                  \n",
      " add_27 (Add)                   (None, None, None,   0           ['block5_sepconv3_bn[0][0]',     \n",
      "                                728)                              'add_26[0][0]']                 \n",
      "                                                                                                  \n",
      " block6_sepconv1_act (Activatio  (None, None, None,   0          ['add_27[0][0]']                 \n",
      " n)                             728)                                                              \n",
      "                                                                                                  \n",
      " block6_sepconv1 (SeparableConv  (None, None, None,   536536     ['block6_sepconv1_act[0][0]']    \n",
      " 2D)                            728)                                                              \n",
      "                                                                                                  \n",
      " block6_sepconv1_bn (BatchNorma  (None, None, None,   2912       ['block6_sepconv1[0][0]']        \n",
      " lization)                      728)                                                              \n",
      "                                                                                                  \n",
      " block6_sepconv2_act (Activatio  (None, None, None,   0          ['block6_sepconv1_bn[0][0]']     \n",
      " n)                             728)                                                              \n",
      "                                                                                                  \n",
      " block6_sepconv2 (SeparableConv  (None, None, None,   536536     ['block6_sepconv2_act[0][0]']    \n",
      " 2D)                            728)                                                              \n",
      "                                                                                                  \n",
      " block6_sepconv2_bn (BatchNorma  (None, None, None,   2912       ['block6_sepconv2[0][0]']        \n",
      " lization)                      728)                                                              \n",
      "                                                                                                  \n",
      " block6_sepconv3_act (Activatio  (None, None, None,   0          ['block6_sepconv2_bn[0][0]']     \n",
      " n)                             728)                                                              \n",
      "                                                                                                  \n",
      " block6_sepconv3 (SeparableConv  (None, None, None,   536536     ['block6_sepconv3_act[0][0]']    \n",
      " 2D)                            728)                                                              \n",
      "                                                                                                  \n",
      " block6_sepconv3_bn (BatchNorma  (None, None, None,   2912       ['block6_sepconv3[0][0]']        \n"
     ]
    },
    {
     "name": "stdout",
     "output_type": "stream",
     "text": [
      " lization)                      728)                                                              \n",
      "                                                                                                  \n",
      " add_28 (Add)                   (None, None, None,   0           ['block6_sepconv3_bn[0][0]',     \n",
      "                                728)                              'add_27[0][0]']                 \n",
      "                                                                                                  \n",
      " block7_sepconv1_act (Activatio  (None, None, None,   0          ['add_28[0][0]']                 \n",
      " n)                             728)                                                              \n",
      "                                                                                                  \n",
      " block7_sepconv1 (SeparableConv  (None, None, None,   536536     ['block7_sepconv1_act[0][0]']    \n",
      " 2D)                            728)                                                              \n",
      "                                                                                                  \n",
      " block7_sepconv1_bn (BatchNorma  (None, None, None,   2912       ['block7_sepconv1[0][0]']        \n",
      " lization)                      728)                                                              \n",
      "                                                                                                  \n",
      " block7_sepconv2_act (Activatio  (None, None, None,   0          ['block7_sepconv1_bn[0][0]']     \n",
      " n)                             728)                                                              \n",
      "                                                                                                  \n",
      " block7_sepconv2 (SeparableConv  (None, None, None,   536536     ['block7_sepconv2_act[0][0]']    \n",
      " 2D)                            728)                                                              \n",
      "                                                                                                  \n",
      " block7_sepconv2_bn (BatchNorma  (None, None, None,   2912       ['block7_sepconv2[0][0]']        \n",
      " lization)                      728)                                                              \n",
      "                                                                                                  \n",
      " block7_sepconv3_act (Activatio  (None, None, None,   0          ['block7_sepconv2_bn[0][0]']     \n",
      " n)                             728)                                                              \n",
      "                                                                                                  \n",
      " block7_sepconv3 (SeparableConv  (None, None, None,   536536     ['block7_sepconv3_act[0][0]']    \n",
      " 2D)                            728)                                                              \n",
      "                                                                                                  \n",
      " block7_sepconv3_bn (BatchNorma  (None, None, None,   2912       ['block7_sepconv3[0][0]']        \n",
      " lization)                      728)                                                              \n",
      "                                                                                                  \n",
      " add_29 (Add)                   (None, None, None,   0           ['block7_sepconv3_bn[0][0]',     \n",
      "                                728)                              'add_28[0][0]']                 \n",
      "                                                                                                  \n",
      " block8_sepconv1_act (Activatio  (None, None, None,   0          ['add_29[0][0]']                 \n",
      " n)                             728)                                                              \n",
      "                                                                                                  \n",
      " block8_sepconv1 (SeparableConv  (None, None, None,   536536     ['block8_sepconv1_act[0][0]']    \n",
      " 2D)                            728)                                                              \n",
      "                                                                                                  \n",
      " block8_sepconv1_bn (BatchNorma  (None, None, None,   2912       ['block8_sepconv1[0][0]']        \n",
      " lization)                      728)                                                              \n",
      "                                                                                                  \n",
      " block8_sepconv2_act (Activatio  (None, None, None,   0          ['block8_sepconv1_bn[0][0]']     \n",
      " n)                             728)                                                              \n",
      "                                                                                                  \n",
      " block8_sepconv2 (SeparableConv  (None, None, None,   536536     ['block8_sepconv2_act[0][0]']    \n",
      " 2D)                            728)                                                              \n",
      "                                                                                                  \n",
      " block8_sepconv2_bn (BatchNorma  (None, None, None,   2912       ['block8_sepconv2[0][0]']        \n",
      " lization)                      728)                                                              \n",
      "                                                                                                  \n",
      " block8_sepconv3_act (Activatio  (None, None, None,   0          ['block8_sepconv2_bn[0][0]']     \n",
      " n)                             728)                                                              \n",
      "                                                                                                  \n",
      " block8_sepconv3 (SeparableConv  (None, None, None,   536536     ['block8_sepconv3_act[0][0]']    \n",
      " 2D)                            728)                                                              \n",
      "                                                                                                  \n",
      " block8_sepconv3_bn (BatchNorma  (None, None, None,   2912       ['block8_sepconv3[0][0]']        \n",
      " lization)                      728)                                                              \n",
      "                                                                                                  \n",
      " add_30 (Add)                   (None, None, None,   0           ['block8_sepconv3_bn[0][0]',     \n",
      "                                728)                              'add_29[0][0]']                 \n",
      "                                                                                                  \n",
      " block9_sepconv1_act (Activatio  (None, None, None,   0          ['add_30[0][0]']                 \n",
      " n)                             728)                                                              \n",
      "                                                                                                  \n",
      " block9_sepconv1 (SeparableConv  (None, None, None,   536536     ['block9_sepconv1_act[0][0]']    \n",
      " 2D)                            728)                                                              \n",
      "                                                                                                  \n",
      " block9_sepconv1_bn (BatchNorma  (None, None, None,   2912       ['block9_sepconv1[0][0]']        \n",
      " lization)                      728)                                                              \n",
      "                                                                                                  \n",
      " block9_sepconv2_act (Activatio  (None, None, None,   0          ['block9_sepconv1_bn[0][0]']     \n",
      " n)                             728)                                                              \n",
      "                                                                                                  \n",
      " block9_sepconv2 (SeparableConv  (None, None, None,   536536     ['block9_sepconv2_act[0][0]']    \n",
      " 2D)                            728)                                                              \n",
      "                                                                                                  \n",
      " block9_sepconv2_bn (BatchNorma  (None, None, None,   2912       ['block9_sepconv2[0][0]']        \n",
      " lization)                      728)                                                              \n",
      "                                                                                                  \n"
     ]
    },
    {
     "name": "stdout",
     "output_type": "stream",
     "text": [
      " block9_sepconv3_act (Activatio  (None, None, None,   0          ['block9_sepconv2_bn[0][0]']     \n",
      " n)                             728)                                                              \n",
      "                                                                                                  \n",
      " block9_sepconv3 (SeparableConv  (None, None, None,   536536     ['block9_sepconv3_act[0][0]']    \n",
      " 2D)                            728)                                                              \n",
      "                                                                                                  \n",
      " block9_sepconv3_bn (BatchNorma  (None, None, None,   2912       ['block9_sepconv3[0][0]']        \n",
      " lization)                      728)                                                              \n",
      "                                                                                                  \n",
      " add_31 (Add)                   (None, None, None,   0           ['block9_sepconv3_bn[0][0]',     \n",
      "                                728)                              'add_30[0][0]']                 \n",
      "                                                                                                  \n",
      " block10_sepconv1_act (Activati  (None, None, None,   0          ['add_31[0][0]']                 \n",
      " on)                            728)                                                              \n",
      "                                                                                                  \n",
      " block10_sepconv1 (SeparableCon  (None, None, None,   536536     ['block10_sepconv1_act[0][0]']   \n",
      " v2D)                           728)                                                              \n",
      "                                                                                                  \n",
      " block10_sepconv1_bn (BatchNorm  (None, None, None,   2912       ['block10_sepconv1[0][0]']       \n",
      " alization)                     728)                                                              \n",
      "                                                                                                  \n",
      " block10_sepconv2_act (Activati  (None, None, None,   0          ['block10_sepconv1_bn[0][0]']    \n",
      " on)                            728)                                                              \n",
      "                                                                                                  \n",
      " block10_sepconv2 (SeparableCon  (None, None, None,   536536     ['block10_sepconv2_act[0][0]']   \n",
      " v2D)                           728)                                                              \n",
      "                                                                                                  \n",
      " block10_sepconv2_bn (BatchNorm  (None, None, None,   2912       ['block10_sepconv2[0][0]']       \n",
      " alization)                     728)                                                              \n",
      "                                                                                                  \n",
      " block10_sepconv3_act (Activati  (None, None, None,   0          ['block10_sepconv2_bn[0][0]']    \n",
      " on)                            728)                                                              \n",
      "                                                                                                  \n",
      " block10_sepconv3 (SeparableCon  (None, None, None,   536536     ['block10_sepconv3_act[0][0]']   \n",
      " v2D)                           728)                                                              \n",
      "                                                                                                  \n",
      " block10_sepconv3_bn (BatchNorm  (None, None, None,   2912       ['block10_sepconv3[0][0]']       \n",
      " alization)                     728)                                                              \n",
      "                                                                                                  \n",
      " add_32 (Add)                   (None, None, None,   0           ['block10_sepconv3_bn[0][0]',    \n",
      "                                728)                              'add_31[0][0]']                 \n",
      "                                                                                                  \n",
      " block11_sepconv1_act (Activati  (None, None, None,   0          ['add_32[0][0]']                 \n",
      " on)                            728)                                                              \n",
      "                                                                                                  \n",
      " block11_sepconv1 (SeparableCon  (None, None, None,   536536     ['block11_sepconv1_act[0][0]']   \n",
      " v2D)                           728)                                                              \n",
      "                                                                                                  \n",
      " block11_sepconv1_bn (BatchNorm  (None, None, None,   2912       ['block11_sepconv1[0][0]']       \n",
      " alization)                     728)                                                              \n",
      "                                                                                                  \n",
      " block11_sepconv2_act (Activati  (None, None, None,   0          ['block11_sepconv1_bn[0][0]']    \n",
      " on)                            728)                                                              \n",
      "                                                                                                  \n",
      " block11_sepconv2 (SeparableCon  (None, None, None,   536536     ['block11_sepconv2_act[0][0]']   \n",
      " v2D)                           728)                                                              \n",
      "                                                                                                  \n",
      " block11_sepconv2_bn (BatchNorm  (None, None, None,   2912       ['block11_sepconv2[0][0]']       \n",
      " alization)                     728)                                                              \n",
      "                                                                                                  \n",
      " block11_sepconv3_act (Activati  (None, None, None,   0          ['block11_sepconv2_bn[0][0]']    \n",
      " on)                            728)                                                              \n",
      "                                                                                                  \n",
      " block11_sepconv3 (SeparableCon  (None, None, None,   536536     ['block11_sepconv3_act[0][0]']   \n",
      " v2D)                           728)                                                              \n",
      "                                                                                                  \n",
      " block11_sepconv3_bn (BatchNorm  (None, None, None,   2912       ['block11_sepconv3[0][0]']       \n",
      " alization)                     728)                                                              \n",
      "                                                                                                  \n",
      " add_33 (Add)                   (None, None, None,   0           ['block11_sepconv3_bn[0][0]',    \n",
      "                                728)                              'add_32[0][0]']                 \n",
      "                                                                                                  \n",
      " block12_sepconv1_act (Activati  (None, None, None,   0          ['add_33[0][0]']                 \n",
      " on)                            728)                                                              \n",
      "                                                                                                  \n",
      " block12_sepconv1 (SeparableCon  (None, None, None,   536536     ['block12_sepconv1_act[0][0]']   \n",
      " v2D)                           728)                                                              \n",
      "                                                                                                  \n",
      " block12_sepconv1_bn (BatchNorm  (None, None, None,   2912       ['block12_sepconv1[0][0]']       \n",
      " alization)                     728)                                                              \n",
      "                                                                                                  \n",
      " block12_sepconv2_act (Activati  (None, None, None,   0          ['block12_sepconv1_bn[0][0]']    \n",
      " on)                            728)                                                              \n"
     ]
    },
    {
     "name": "stdout",
     "output_type": "stream",
     "text": [
      "                                                                                                  \n",
      " block12_sepconv2 (SeparableCon  (None, None, None,   536536     ['block12_sepconv2_act[0][0]']   \n",
      " v2D)                           728)                                                              \n",
      "                                                                                                  \n",
      " block12_sepconv2_bn (BatchNorm  (None, None, None,   2912       ['block12_sepconv2[0][0]']       \n",
      " alization)                     728)                                                              \n",
      "                                                                                                  \n",
      " block12_sepconv3_act (Activati  (None, None, None,   0          ['block12_sepconv2_bn[0][0]']    \n",
      " on)                            728)                                                              \n",
      "                                                                                                  \n",
      " block12_sepconv3 (SeparableCon  (None, None, None,   536536     ['block12_sepconv3_act[0][0]']   \n",
      " v2D)                           728)                                                              \n",
      "                                                                                                  \n",
      " block12_sepconv3_bn (BatchNorm  (None, None, None,   2912       ['block12_sepconv3[0][0]']       \n",
      " alization)                     728)                                                              \n",
      "                                                                                                  \n",
      " add_34 (Add)                   (None, None, None,   0           ['block12_sepconv3_bn[0][0]',    \n",
      "                                728)                              'add_33[0][0]']                 \n",
      "                                                                                                  \n",
      " block13_sepconv1_act (Activati  (None, None, None,   0          ['add_34[0][0]']                 \n",
      " on)                            728)                                                              \n",
      "                                                                                                  \n",
      " block13_sepconv1 (SeparableCon  (None, None, None,   536536     ['block13_sepconv1_act[0][0]']   \n",
      " v2D)                           728)                                                              \n",
      "                                                                                                  \n",
      " block13_sepconv1_bn (BatchNorm  (None, None, None,   2912       ['block13_sepconv1[0][0]']       \n",
      " alization)                     728)                                                              \n",
      "                                                                                                  \n",
      " block13_sepconv2_act (Activati  (None, None, None,   0          ['block13_sepconv1_bn[0][0]']    \n",
      " on)                            728)                                                              \n",
      "                                                                                                  \n",
      " block13_sepconv2 (SeparableCon  (None, None, None,   752024     ['block13_sepconv2_act[0][0]']   \n",
      " v2D)                           1024)                                                             \n",
      "                                                                                                  \n",
      " block13_sepconv2_bn (BatchNorm  (None, None, None,   4096       ['block13_sepconv2[0][0]']       \n",
      " alization)                     1024)                                                             \n",
      "                                                                                                  \n",
      " conv2d_11 (Conv2D)             (None, None, None,   745472      ['add_34[0][0]']                 \n",
      "                                1024)                                                             \n",
      "                                                                                                  \n",
      " block13_pool (MaxPooling2D)    (None, None, None,   0           ['block13_sepconv2_bn[0][0]']    \n",
      "                                1024)                                                             \n",
      "                                                                                                  \n",
      " batch_normalization_11 (BatchN  (None, None, None,   4096       ['conv2d_11[0][0]']              \n",
      " ormalization)                  1024)                                                             \n",
      "                                                                                                  \n",
      " add_35 (Add)                   (None, None, None,   0           ['block13_pool[0][0]',           \n",
      "                                1024)                             'batch_normalization_11[0][0]'] \n",
      "                                                                                                  \n",
      " block14_sepconv1 (SeparableCon  (None, None, None,   1582080    ['add_35[0][0]']                 \n",
      " v2D)                           1536)                                                             \n",
      "                                                                                                  \n",
      " block14_sepconv1_bn (BatchNorm  (None, None, None,   6144       ['block14_sepconv1[0][0]']       \n",
      " alization)                     1536)                                                             \n",
      "                                                                                                  \n",
      " block14_sepconv1_act (Activati  (None, None, None,   0          ['block14_sepconv1_bn[0][0]']    \n",
      " on)                            1536)                                                             \n",
      "                                                                                                  \n",
      " block14_sepconv2 (SeparableCon  (None, None, None,   3159552    ['block14_sepconv1_act[0][0]']   \n",
      " v2D)                           2048)                                                             \n",
      "                                                                                                  \n",
      " block14_sepconv2_bn (BatchNorm  (None, None, None,   8192       ['block14_sepconv2[0][0]']       \n",
      " alization)                     2048)                                                             \n",
      "                                                                                                  \n",
      " block14_sepconv2_act (Activati  (None, None, None,   0          ['block14_sepconv2_bn[0][0]']    \n",
      " on)                            2048)                                                             \n",
      "                                                                                                  \n",
      " global_average_pooling2d_2 (Gl  (None, 2048)        0           ['block14_sepconv2_act[0][0]']   \n",
      " obalAveragePooling2D)                                                                            \n",
      "                                                                                                  \n",
      " dense_2 (Dense)                (None, 6)            12294       ['global_average_pooling2d_2[0][0\n",
      "                                                                 ]']                              \n",
      "                                                                                                  \n",
      "==================================================================================================\n",
      "Total params: 20,873,774\n",
      "Trainable params: 20,819,246\n",
      "Non-trainable params: 54,528\n",
      "__________________________________________________________________________________________________\n"
     ]
    }
   ],
   "source": [
    "model = Xception(weights='imagenet', include_top=False)\n",
    "model = add_new_last_layer(model, nb_classes)\n",
    "\n",
    "model.summary()"
   ]
  },
  {
   "cell_type": "markdown",
   "metadata": {
    "id": "yRMl52NsxPWR"
   },
   "source": [
    "## Training\n",
    "\n",
    "### TODO: Perform training (transfer learning and fine tuning) to get the best results you can.\n"
   ]
  },
  {
   "cell_type": "markdown",
   "metadata": {
    "id": "QX41-YUPxPWS"
   },
   "source": [
    "### Transfer learning"
   ]
  },
  {
   "cell_type": "code",
   "execution_count": 25,
   "metadata": {
    "colab": {
     "base_uri": "https://localhost:8080/"
    },
    "id": "v1FHTyr9xPWS",
    "outputId": "8d7e246c-d75d-4c10-9c1b-6996ba395792",
    "scrolled": true
   },
   "outputs": [
    {
     "name": "stderr",
     "output_type": "stream",
     "text": [
      "WARNING:absl:`lr` is deprecated, please use `learning_rate` instead, or use the legacy optimizer, e.g.,tf.keras.optimizers.legacy.Nadam.\n"
     ]
    },
    {
     "name": "stdout",
     "output_type": "stream",
     "text": [
      "Epoch 1/5\n",
      "1/1 [==============================] - 28s 28s/step - loss: 1.7431 - accuracy: 0.2308\n",
      "Epoch 2/5\n",
      "1/1 [==============================] - 46s 46s/step - loss: 1.8000 - accuracy: 0.2109\n",
      "Epoch 3/5\n",
      "1/1 [==============================] - 45s 45s/step - loss: 1.7031 - accuracy: 0.2578\n",
      "Epoch 4/5\n",
      "1/1 [==============================] - 19s 19s/step - loss: 1.6589 - accuracy: 0.3269\n",
      "Epoch 5/5\n",
      "1/1 [==============================] - 43s 43s/step - loss: 1.5784 - accuracy: 0.4531\n"
     ]
    }
   ],
   "source": [
    "setup_to_transfer_learn(model, args)\n",
    "\n",
    "history = model.fit(\n",
    "    train_generator,\n",
    "    steps_per_epoch = train_steps,\n",
    "    epochs = 5,\n",
    "    validation_data=validation_generator,\n",
    "    validation_steps = valid_steps,\n",
    ")"
   ]
  },
  {
   "cell_type": "code",
   "execution_count": 31,
   "metadata": {},
   "outputs": [
    {
     "ename": "KeyError",
     "evalue": "'val_accuracy'",
     "output_type": "error",
     "traceback": [
      "\u001b[1;31m---------------------------------------------------------------------------\u001b[0m",
      "\u001b[1;31mKeyError\u001b[0m                                  Traceback (most recent call last)",
      "\u001b[1;32m<ipython-input-31-30f6ddfbf784>\u001b[0m in \u001b[0;36m<module>\u001b[1;34m\u001b[0m\n\u001b[1;32m----> 1\u001b[1;33m \u001b[0mtl_history\u001b[0m \u001b[1;33m=\u001b[0m \u001b[0mprocess_and_display\u001b[0m\u001b[1;33m(\u001b[0m\u001b[0mhistory\u001b[0m\u001b[1;33m)\u001b[0m\u001b[1;33m\u001b[0m\u001b[1;33m\u001b[0m\u001b[0m\n\u001b[0m\u001b[0;32m      2\u001b[0m \u001b[0mmodel\u001b[0m\u001b[1;33m.\u001b[0m\u001b[0msave_weights\u001b[0m\u001b[1;33m(\u001b[0m\u001b[1;34m'checkpoints/transfer_learning'\u001b[0m\u001b[1;33m)\u001b[0m\u001b[1;33m\u001b[0m\u001b[1;33m\u001b[0m\u001b[0m\n",
      "\u001b[1;32m<ipython-input-30-fa05b88ba9b6>\u001b[0m in \u001b[0;36mprocess_and_display\u001b[1;34m(history, old_history)\u001b[0m\n\u001b[0;32m     43\u001b[0m \u001b[1;33m\u001b[0m\u001b[0m\n\u001b[0;32m     44\u001b[0m \u001b[1;32mdef\u001b[0m \u001b[0mprocess_and_display\u001b[0m\u001b[1;33m(\u001b[0m\u001b[0mhistory\u001b[0m\u001b[1;33m,\u001b[0m \u001b[0mold_history\u001b[0m \u001b[1;33m=\u001b[0m \u001b[1;32mNone\u001b[0m\u001b[1;33m)\u001b[0m\u001b[1;33m:\u001b[0m\u001b[1;33m\u001b[0m\u001b[1;33m\u001b[0m\u001b[0m\n\u001b[1;32m---> 45\u001b[1;33m     \u001b[0mnew_history\u001b[0m \u001b[1;33m=\u001b[0m \u001b[0munpack_history\u001b[0m\u001b[1;33m(\u001b[0m\u001b[0mhistory\u001b[0m\u001b[1;33m,\u001b[0m \u001b[0mold_history\u001b[0m\u001b[1;33m)\u001b[0m\u001b[1;33m\u001b[0m\u001b[1;33m\u001b[0m\u001b[0m\n\u001b[0m\u001b[0;32m     46\u001b[0m     \u001b[0mplot_history\u001b[0m\u001b[1;33m(\u001b[0m\u001b[0mnew_history\u001b[0m\u001b[1;33m)\u001b[0m\u001b[1;33m\u001b[0m\u001b[1;33m\u001b[0m\u001b[0m\n\u001b[0;32m     47\u001b[0m     \u001b[1;32mreturn\u001b[0m \u001b[0mnew_history\u001b[0m\u001b[1;33m\u001b[0m\u001b[1;33m\u001b[0m\u001b[0m\n",
      "\u001b[1;32m<ipython-input-30-fa05b88ba9b6>\u001b[0m in \u001b[0;36munpack_history\u001b[1;34m(history, old_history)\u001b[0m\n\u001b[0;32m     10\u001b[0m         \u001b[0mnew_history\u001b[0m \u001b[1;33m=\u001b[0m \u001b[0mold_history\u001b[0m\u001b[1;33m\u001b[0m\u001b[1;33m\u001b[0m\u001b[0m\n\u001b[0;32m     11\u001b[0m     \u001b[0mnew_history\u001b[0m\u001b[1;33m[\u001b[0m\u001b[1;34m'accuracy'\u001b[0m\u001b[1;33m]\u001b[0m \u001b[1;33m+=\u001b[0m \u001b[0mhistory\u001b[0m\u001b[1;33m.\u001b[0m\u001b[0mhistory\u001b[0m\u001b[1;33m[\u001b[0m\u001b[1;34m'accuracy'\u001b[0m\u001b[1;33m]\u001b[0m\u001b[1;33m\u001b[0m\u001b[1;33m\u001b[0m\u001b[0m\n\u001b[1;32m---> 12\u001b[1;33m     \u001b[0mprint\u001b[0m\u001b[1;33m(\u001b[0m\u001b[0mhistory\u001b[0m\u001b[1;33m.\u001b[0m\u001b[0mhistory\u001b[0m\u001b[1;33m[\u001b[0m\u001b[1;34m'val_accuracy'\u001b[0m\u001b[1;33m]\u001b[0m\u001b[1;33m)\u001b[0m\u001b[1;33m\u001b[0m\u001b[1;33m\u001b[0m\u001b[0m\n\u001b[0m\u001b[0;32m     13\u001b[0m \u001b[1;31m#     new_history['val_accuracy'] += history.history['val_accuracy']\u001b[0m\u001b[1;33m\u001b[0m\u001b[1;33m\u001b[0m\u001b[1;33m\u001b[0m\u001b[0m\n\u001b[0;32m     14\u001b[0m     \u001b[0mnew_history\u001b[0m\u001b[1;33m[\u001b[0m\u001b[1;34m'loss'\u001b[0m\u001b[1;33m]\u001b[0m \u001b[1;33m+=\u001b[0m \u001b[0mhistory\u001b[0m\u001b[1;33m.\u001b[0m\u001b[0mhistory\u001b[0m\u001b[1;33m[\u001b[0m\u001b[1;34m'loss'\u001b[0m\u001b[1;33m]\u001b[0m\u001b[1;33m\u001b[0m\u001b[1;33m\u001b[0m\u001b[0m\n",
      "\u001b[1;31mKeyError\u001b[0m: 'val_accuracy'"
     ]
    }
   ],
   "source": [
    "tl_history = process_and_display(history)"
   ]
  },
  {
   "cell_type": "code",
   "execution_count": 32,
   "metadata": {},
   "outputs": [],
   "source": [
    "model.save_weights('checkpoints/transfer_learning')"
   ]
  },
  {
   "cell_type": "markdown",
   "metadata": {
    "id": "dJYC8E99xPWS"
   },
   "source": [
    "### Fine tuning"
   ]
  },
  {
   "cell_type": "code",
   "execution_count": 33,
   "metadata": {
    "id": "FC55raTpxPWT"
   },
   "outputs": [
    {
     "data": {
      "text/plain": [
       "'block14_sepconv1'"
      ]
     },
     "execution_count": 33,
     "metadata": {},
     "output_type": "execute_result"
    }
   ],
   "source": [
    "model.layers[126].get_config()['name']"
   ]
  },
  {
   "cell_type": "code",
   "execution_count": 34,
   "metadata": {
    "id": "JETkzkH0xPWT"
   },
   "outputs": [
    {
     "name": "stderr",
     "output_type": "stream",
     "text": [
      "WARNING:absl:`lr` is deprecated, please use `learning_rate` instead, or use the legacy optimizer, e.g.,tf.keras.optimizers.legacy.Nadam.\n"
     ]
    },
    {
     "name": "stdout",
     "output_type": "stream",
     "text": [
      "Epoch 1/2\n",
      "1/1 [==============================] - 33s 33s/step - loss: 1.5577 - accuracy: 0.5385\n",
      "Epoch 2/2\n",
      "1/1 [==============================] - 50s 50s/step - loss: 1.2233 - accuracy: 0.7578\n"
     ]
    }
   ],
   "source": [
    "setup_to_finetune(model, args, not_trainable=126)\n",
    "\n",
    "history = model.fit(\n",
    "    train_generator,\n",
    "    steps_per_epoch = train_steps,\n",
    "    epochs = 2,\n",
    "    validation_data=validation_generator,\n",
    "    validation_steps = valid_steps,\n",
    ")"
   ]
  },
  {
   "cell_type": "code",
   "execution_count": 35,
   "metadata": {},
   "outputs": [
    {
     "ename": "NameError",
     "evalue": "name 'tl_history' is not defined",
     "output_type": "error",
     "traceback": [
      "\u001b[1;31m---------------------------------------------------------------------------\u001b[0m",
      "\u001b[1;31mNameError\u001b[0m                                 Traceback (most recent call last)",
      "\u001b[1;32m<ipython-input-35-be5a3f1e8669>\u001b[0m in \u001b[0;36m<module>\u001b[1;34m\u001b[0m\n\u001b[1;32m----> 1\u001b[1;33m \u001b[0mft126_history\u001b[0m \u001b[1;33m=\u001b[0m \u001b[0mprocess_and_display\u001b[0m\u001b[1;33m(\u001b[0m\u001b[0mhistory\u001b[0m\u001b[1;33m,\u001b[0m \u001b[0mtl_history\u001b[0m\u001b[1;33m)\u001b[0m\u001b[1;33m\u001b[0m\u001b[1;33m\u001b[0m\u001b[0m\n\u001b[0m",
      "\u001b[1;31mNameError\u001b[0m: name 'tl_history' is not defined"
     ]
    }
   ],
   "source": [
    "ft126_history = process_and_display(history, tl_history)"
   ]
  },
  {
   "cell_type": "code",
   "execution_count": 36,
   "metadata": {},
   "outputs": [],
   "source": [
    "model.save_weights('checkpoints/fine_tuning_126')"
   ]
  },
  {
   "cell_type": "markdown",
   "metadata": {},
   "source": [
    "**You should continue unfreezeng the layers and training the model until the model overfits. Feel free to add as many code cells as you wish**."
   ]
  },
  {
   "cell_type": "code",
   "execution_count": null,
   "metadata": {},
   "outputs": [],
   "source": []
  },
  {
   "cell_type": "code",
   "execution_count": null,
   "metadata": {},
   "outputs": [],
   "source": []
  },
  {
   "cell_type": "code",
   "execution_count": null,
   "metadata": {},
   "outputs": [],
   "source": []
  },
  {
   "cell_type": "code",
   "execution_count": null,
   "metadata": {},
   "outputs": [],
   "source": []
  },
  {
   "cell_type": "code",
   "execution_count": null,
   "metadata": {},
   "outputs": [],
   "source": []
  },
  {
   "cell_type": "markdown",
   "metadata": {
    "id": "HuPWbYlYxPWT"
   },
   "source": [
    "# Save the final model"
   ]
  },
  {
   "cell_type": "code",
   "execution_count": 38,
   "metadata": {
    "id": "0Hl0_G2UxPWT"
   },
   "outputs": [
    {
     "name": "stderr",
     "output_type": "stream",
     "text": [
      "WARNING:absl:Found untraced functions such as _jit_compiled_convolution_op, _jit_compiled_convolution_op, _jit_compiled_convolution_op, _jit_compiled_convolution_op, _jit_compiled_convolution_op while saving (showing 5 of 41). These functions will not be directly callable after loading.\n"
     ]
    },
    {
     "name": "stdout",
     "output_type": "stream",
     "text": [
      "INFO:tensorflow:Assets written to: checkpoints/final\\assets\n"
     ]
    },
    {
     "name": "stderr",
     "output_type": "stream",
     "text": [
      "INFO:tensorflow:Assets written to: checkpoints/final\\assets\n"
     ]
    }
   ],
   "source": [
    "model.load_weights('checkpoints/fine_tuning_126')\n",
    "model.save('checkpoints/final')"
   ]
  },
  {
   "cell_type": "markdown",
   "metadata": {
    "id": "0U6BCXTexPWU"
   },
   "source": [
    "# TEST SCORES"
   ]
  },
  {
   "cell_type": "code",
   "execution_count": 39,
   "metadata": {
    "id": "Xy3Kb8iWxPWU"
   },
   "outputs": [],
   "source": [
    "from tensorflow.keras.models import load_model\n",
    "model = load_model('checkpoints/final')"
   ]
  },
  {
   "cell_type": "code",
   "execution_count": 43,
   "metadata": {
    "id": "deicCzzuxPWU"
   },
   "outputs": [
    {
     "ename": "OverflowError",
     "evalue": "cannot convert float infinity to integer",
     "output_type": "error",
     "traceback": [
      "\u001b[1;31m---------------------------------------------------------------------------\u001b[0m",
      "\u001b[1;31mOverflowError\u001b[0m                             Traceback (most recent call last)",
      "\u001b[1;32m<ipython-input-43-2b7edb126f89>\u001b[0m in \u001b[0;36m<module>\u001b[1;34m\u001b[0m\n\u001b[0;32m      1\u001b[0m \u001b[0mnb_test_samples\u001b[0m \u001b[1;33m=\u001b[0m \u001b[0mget_nb_files\u001b[0m\u001b[1;33m(\u001b[0m\u001b[0margs\u001b[0m\u001b[1;33m.\u001b[0m\u001b[0mtest_dir\u001b[0m\u001b[1;33m)\u001b[0m\u001b[1;33m\u001b[0m\u001b[1;33m\u001b[0m\u001b[0m\n\u001b[0;32m      2\u001b[0m \u001b[0mtest_steps\u001b[0m \u001b[1;33m=\u001b[0m \u001b[0mint\u001b[0m\u001b[1;33m(\u001b[0m\u001b[0mnb_test_samples\u001b[0m \u001b[1;33m/\u001b[0m \u001b[0margs\u001b[0m\u001b[1;33m.\u001b[0m\u001b[0mbatch_size\u001b[0m\u001b[1;33m)\u001b[0m\u001b[1;33m\u001b[0m\u001b[1;33m\u001b[0m\u001b[0m\n\u001b[1;32m----> 3\u001b[1;33m \u001b[0mmodel\u001b[0m\u001b[1;33m.\u001b[0m\u001b[0mevaluate\u001b[0m\u001b[1;33m(\u001b[0m\u001b[0mtest_generator\u001b[0m\u001b[1;33m,\u001b[0m \u001b[0msteps\u001b[0m\u001b[1;33m=\u001b[0m\u001b[0mtest_steps\u001b[0m\u001b[1;33m)\u001b[0m\u001b[1;33m\u001b[0m\u001b[1;33m\u001b[0m\u001b[0m\n\u001b[0m",
      "\u001b[1;32m~\\anaconda3\\lib\\site-packages\\keras\\utils\\traceback_utils.py\u001b[0m in \u001b[0;36merror_handler\u001b[1;34m(*args, **kwargs)\u001b[0m\n\u001b[0;32m     68\u001b[0m             \u001b[1;31m# To get the full stack trace, call:\u001b[0m\u001b[1;33m\u001b[0m\u001b[1;33m\u001b[0m\u001b[1;33m\u001b[0m\u001b[0m\n\u001b[0;32m     69\u001b[0m             \u001b[1;31m# `tf.debugging.disable_traceback_filtering()`\u001b[0m\u001b[1;33m\u001b[0m\u001b[1;33m\u001b[0m\u001b[1;33m\u001b[0m\u001b[0m\n\u001b[1;32m---> 70\u001b[1;33m             \u001b[1;32mraise\u001b[0m \u001b[0me\u001b[0m\u001b[1;33m.\u001b[0m\u001b[0mwith_traceback\u001b[0m\u001b[1;33m(\u001b[0m\u001b[0mfiltered_tb\u001b[0m\u001b[1;33m)\u001b[0m \u001b[1;32mfrom\u001b[0m \u001b[1;32mNone\u001b[0m\u001b[1;33m\u001b[0m\u001b[1;33m\u001b[0m\u001b[0m\n\u001b[0m\u001b[0;32m     71\u001b[0m         \u001b[1;32mfinally\u001b[0m\u001b[1;33m:\u001b[0m\u001b[1;33m\u001b[0m\u001b[1;33m\u001b[0m\u001b[0m\n\u001b[0;32m     72\u001b[0m             \u001b[1;32mdel\u001b[0m \u001b[0mfiltered_tb\u001b[0m\u001b[1;33m\u001b[0m\u001b[1;33m\u001b[0m\u001b[0m\n",
      "\u001b[1;32m~\\anaconda3\\lib\\site-packages\\keras\\utils\\generic_utils.py\u001b[0m in \u001b[0;36mupdate\u001b[1;34m(self, current, values, finalize)\u001b[0m\n\u001b[0;32m    237\u001b[0m \u001b[1;33m\u001b[0m\u001b[0m\n\u001b[0;32m    238\u001b[0m             \u001b[1;32mif\u001b[0m \u001b[0mself\u001b[0m\u001b[1;33m.\u001b[0m\u001b[0mtarget\u001b[0m \u001b[1;32mis\u001b[0m \u001b[1;32mnot\u001b[0m \u001b[1;32mNone\u001b[0m\u001b[1;33m:\u001b[0m\u001b[1;33m\u001b[0m\u001b[1;33m\u001b[0m\u001b[0m\n\u001b[1;32m--> 239\u001b[1;33m                 \u001b[0mnumdigits\u001b[0m \u001b[1;33m=\u001b[0m \u001b[0mint\u001b[0m\u001b[1;33m(\u001b[0m\u001b[0mnp\u001b[0m\u001b[1;33m.\u001b[0m\u001b[0mlog10\u001b[0m\u001b[1;33m(\u001b[0m\u001b[0mself\u001b[0m\u001b[1;33m.\u001b[0m\u001b[0mtarget\u001b[0m\u001b[1;33m)\u001b[0m\u001b[1;33m)\u001b[0m \u001b[1;33m+\u001b[0m \u001b[1;36m1\u001b[0m\u001b[1;33m\u001b[0m\u001b[1;33m\u001b[0m\u001b[0m\n\u001b[0m\u001b[0;32m    240\u001b[0m                 \u001b[0mbar\u001b[0m \u001b[1;33m=\u001b[0m \u001b[1;33m(\u001b[0m\u001b[1;34m\"%\"\u001b[0m \u001b[1;33m+\u001b[0m \u001b[0mstr\u001b[0m\u001b[1;33m(\u001b[0m\u001b[0mnumdigits\u001b[0m\u001b[1;33m)\u001b[0m \u001b[1;33m+\u001b[0m \u001b[1;34m\"d/%d [\"\u001b[0m\u001b[1;33m)\u001b[0m \u001b[1;33m%\u001b[0m \u001b[1;33m(\u001b[0m\u001b[0mcurrent\u001b[0m\u001b[1;33m,\u001b[0m \u001b[0mself\u001b[0m\u001b[1;33m.\u001b[0m\u001b[0mtarget\u001b[0m\u001b[1;33m)\u001b[0m\u001b[1;33m\u001b[0m\u001b[1;33m\u001b[0m\u001b[0m\n\u001b[0;32m    241\u001b[0m                 \u001b[0mprog\u001b[0m \u001b[1;33m=\u001b[0m \u001b[0mfloat\u001b[0m\u001b[1;33m(\u001b[0m\u001b[0mcurrent\u001b[0m\u001b[1;33m)\u001b[0m \u001b[1;33m/\u001b[0m \u001b[0mself\u001b[0m\u001b[1;33m.\u001b[0m\u001b[0mtarget\u001b[0m\u001b[1;33m\u001b[0m\u001b[1;33m\u001b[0m\u001b[0m\n",
      "\u001b[1;31mOverflowError\u001b[0m: cannot convert float infinity to integer"
     ]
    }
   ],
   "source": [
    "nb_test_samples = get_nb_files(args.test_dir)\n",
    "test_steps = int(nb_test_samples / args.batch_size)\n",
    "model.evaluate(test_generator, steps=test_steps)"
   ]
  },
  {
   "cell_type": "markdown",
   "metadata": {
    "id": "IBm6F5edxPWU"
   },
   "source": [
    "# TO DO\n",
    "Show examples how your model works with real images. \n",
    "Try to display:\n",
    "- An image\n",
    "- Real class of an image\n",
    "- Estimated class of an image\n",
    "- Probabilities"
   ]
  },
  {
   "cell_type": "code",
   "execution_count": null,
   "metadata": {},
   "outputs": [],
   "source": []
  }
 ],
 "metadata": {
  "accelerator": "TPU",
  "colab": {
   "name": "Xception.ipynb",
   "provenance": []
  },
  "kernelspec": {
   "display_name": "Python 3",
   "language": "python",
   "name": "python3"
  },
  "language_info": {
   "codemirror_mode": {
    "name": "ipython",
    "version": 3
   },
   "file_extension": ".py",
   "mimetype": "text/x-python",
   "name": "python",
   "nbconvert_exporter": "python",
   "pygments_lexer": "ipython3",
   "version": "3.8.8"
  }
 },
 "nbformat": 4,
 "nbformat_minor": 4
}
